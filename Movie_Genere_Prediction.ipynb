{
  "nbformat": 4,
  "nbformat_minor": 0,
  "metadata": {
    "colab": {
      "name": "MGP_aug.ipynb",
      "provenance": [],
      "collapsed_sections": []
    },
    "kernelspec": {
      "name": "python3",
      "display_name": "Python 3"
    },
    "accelerator": "GPU"
  },
  "cells": [
    {
      "cell_type": "code",
      "metadata": {
        "id": "G9KO_To3tIrC"
      },
      "source": [
        "import numpy as np\n",
        "import pandas as pd\n",
        "import matplotlib.pyplot as plt\n",
        "from tensorflow.keras.datasets import mnist\n",
        "from keras.utils import to_categorical\n",
        "import tensorflow as tf\n",
        "import time\n",
        "from keras.models import Sequential\n",
        "from keras.layers import Dense, Conv2D, Dropout, Flatten, MaxPooling2D\n",
        "from keras import regularizers\n",
        "from sklearn.model_selection import train_test_split\n",
        "import cv2 as cv\n",
        "from keras.preprocessing.image import ImageDataGenerator"
      ],
      "execution_count": null,
      "outputs": []
    },
    {
      "cell_type": "code",
      "metadata": {
        "id": "Fjg7cI3sufLz",
        "outputId": "7b6a2fcb-42c1-4c06-dde4-ff6d95f792c4",
        "colab": {
          "base_uri": "https://localhost:8080/",
          "height": 34
        }
      },
      "source": [
        "from google.colab import drive\n",
        "drive.mount('/content/drive')"
      ],
      "execution_count": null,
      "outputs": [
        {
          "output_type": "stream",
          "text": [
            "Drive already mounted at /content/drive; to attempt to forcibly remount, call drive.mount(\"/content/drive\", force_remount=True).\n"
          ],
          "name": "stdout"
        }
      ]
    },
    {
      "cell_type": "code",
      "metadata": {
        "id": "Xv_YwrbTugpt"
      },
      "source": [
        "dataset = pd.read_csv('/content/drive/My Drive/Colab Notebooks/movie_poster.csv')\n",
        "# /content/drive/My Drive/Colab Notebooks/movie_poster.csv"
      ],
      "execution_count": null,
      "outputs": []
    },
    {
      "cell_type": "code",
      "metadata": {
        "id": "IfKSmB3svhgJ",
        "outputId": "bc44ef00-d26a-4e70-8c2d-107125325e40",
        "colab": {
          "base_uri": "https://localhost:8080/",
          "height": 260
        }
      },
      "source": [
        "dataset = dataset*1\n",
        "#converting bool to int\n",
        "dataset.drop(dataset.columns[[1,2,3,4]], axis=1, inplace=True)\n",
        "print(dataset)"
      ],
      "execution_count": null,
      "outputs": [
        {
          "output_type": "stream",
          "text": [
            "            tid  action  scifi  drama  romance\n",
            "0     tt0120737       1      0      0        0\n",
            "1     tt0167260       1      0      0        0\n",
            "2     tt0167261       1      0      0        0\n",
            "3     tt0169102       0      0      1        0\n",
            "4     tt0211915       0      0      0        1\n",
            "...         ...     ...    ...    ...      ...\n",
            "2450  tt1692486       0      0      1        0\n",
            "2451  tt1695360       1      0      0        0\n",
            "2452  tt1696202       1      0      0        0\n",
            "2453  tt1699202       0      0      1        0\n",
            "2454  tt1699513       0      0      1        0\n",
            "\n",
            "[2455 rows x 5 columns]\n"
          ],
          "name": "stdout"
        }
      ]
    },
    {
      "cell_type": "code",
      "metadata": {
        "id": "_Sk2bu-YwAo5"
      },
      "source": [
        "dataset_clean = dataset\n",
        "pic = cv.imread('/content/drive/My Drive/Colab Notebooks/posters/tt1692486.jpg')"
      ],
      "execution_count": null,
      "outputs": []
    },
    {
      "cell_type": "code",
      "metadata": {
        "id": "NpzKKEgmT9Nq"
      },
      "source": [
        "#print(pic)"
      ],
      "execution_count": null,
      "outputs": []
    },
    {
      "cell_type": "code",
      "metadata": {
        "id": "1Mp1-WTxQFda"
      },
      "source": [
        "df = dataset[['tid']]\n",
        "df = np.array(df)\n",
        "s = ''\n",
        "for j in range (df.shape[0]):\n",
        "    df = dataset[['tid']]\n",
        "    df = np.array(df)\n",
        "    v =  '/content/drive/My Drive/Colab Notebooks/posters/'+ df[j][0] + '.jpg'\n",
        "    img = cv.imread(v)\n",
        "    imgsize = 320\n",
        "    try:\n",
        "        img = cv.resize(img, (imgsize, imgsize))\n",
        "    except:\n",
        "        s = df[j][0]\n",
        "        dataset_clean = dataset_clean[~dataset_clean['tid'].isin([s])]"
      ],
      "execution_count": null,
      "outputs": []
    },
    {
      "cell_type": "code",
      "metadata": {
        "id": "KcOPzIlSQMNJ",
        "outputId": "d77ea292-31a3-40c0-e550-dd75fd71eff7",
        "colab": {
          "base_uri": "https://localhost:8080/",
          "height": 260
        }
      },
      "source": [
        "print(dataset_clean)"
      ],
      "execution_count": null,
      "outputs": [
        {
          "output_type": "stream",
          "text": [
            "            tid  action  scifi  drama  romance\n",
            "0     tt0120737       1      0      0        0\n",
            "1     tt0167260       1      0      0        0\n",
            "2     tt0167261       1      0      0        0\n",
            "3     tt0169102       0      0      1        0\n",
            "4     tt0211915       0      0      0        1\n",
            "...         ...     ...    ...    ...      ...\n",
            "2450  tt1692486       0      0      1        0\n",
            "2451  tt1695360       1      0      0        0\n",
            "2452  tt1696202       1      0      0        0\n",
            "2453  tt1699202       0      0      1        0\n",
            "2454  tt1699513       0      0      1        0\n",
            "\n",
            "[2436 rows x 5 columns]\n"
          ],
          "name": "stdout"
        }
      ]
    },
    {
      "cell_type": "code",
      "metadata": {
        "id": "byTVZ4gWQS6g"
      },
      "source": [
        "train, test = train_test_split(dataset_clean, test_size=0.2)"
      ],
      "execution_count": null,
      "outputs": []
    },
    {
      "cell_type": "code",
      "metadata": {
        "id": "QCa8x4oXiJBW"
      },
      "source": [
        "df1 = train[['action','scifi','drama','romance']]\n",
        "df = train[['tid']]\n",
        "df = np.array(df)\n",
        "df_test = test[['tid']]\n",
        "df_test = np.array(df_test)\n",
        "df_test1 = test[['action','scifi','drama','romance']]"
      ],
      "execution_count": null,
      "outputs": []
    },
    {
      "cell_type": "code",
      "metadata": {
        "id": "5TCHKo1-iMHm"
      },
      "source": [
        "y_train = np.array(df1)\n",
        "y_test = np.array(df_test1)"
      ],
      "execution_count": null,
      "outputs": []
    },
    {
      "cell_type": "code",
      "metadata": {
        "id": "ec8kQme2iQ0j"
      },
      "source": [
        "def ExtractImage(x):\n",
        "    v = '/content/drive/My Drive/Colab Notebooks/posters/'+ x + '.jpg'\n",
        "    v_list = []\n",
        "    for i in range(v.shape[0]):\n",
        "        s = v[i][0]\n",
        "        #print(s)\n",
        "        img = cv.imread(s)\n",
        "        imgsize = 360\n",
        "        img = cv.resize(img, (imgsize, imgsize))\n",
        "        v_list.append(img)\n",
        "    images = np.array(v_list)\n",
        "    return images"
      ],
      "execution_count": null,
      "outputs": []
    },
    {
      "cell_type": "code",
      "metadata": {
        "id": "9syplyQiiiUB"
      },
      "source": [
        "x_train = ExtractImage(df)"
      ],
      "execution_count": null,
      "outputs": []
    },
    {
      "cell_type": "code",
      "metadata": {
        "id": "TPA-gP6uioQ3"
      },
      "source": [
        "x_test = ExtractImage(df_test)"
      ],
      "execution_count": null,
      "outputs": []
    },
    {
      "cell_type": "code",
      "metadata": {
        "id": "z4nFVPn2jYdz",
        "outputId": "daefdb0f-e0c3-4f86-c4a9-ed69d56fc760",
        "colab": {
          "base_uri": "https://localhost:8080/",
          "height": 34
        }
      },
      "source": [
        "x_train.shape"
      ],
      "execution_count": null,
      "outputs": [
        {
          "output_type": "execute_result",
          "data": {
            "text/plain": [
              "(1948, 360, 360, 3)"
            ]
          },
          "metadata": {
            "tags": []
          },
          "execution_count": 20
        }
      ]
    },
    {
      "cell_type": "code",
      "metadata": {
        "id": "ugAPKbe6jhQ-",
        "outputId": "0a13fb4b-c31c-4111-b0b7-94d1e2c9171f",
        "colab": {
          "base_uri": "https://localhost:8080/",
          "height": 34
        }
      },
      "source": [
        "x_test.shape"
      ],
      "execution_count": null,
      "outputs": [
        {
          "output_type": "execute_result",
          "data": {
            "text/plain": [
              "(488, 360, 360, 3)"
            ]
          },
          "metadata": {
            "tags": []
          },
          "execution_count": 21
        }
      ]
    },
    {
      "cell_type": "code",
      "metadata": {
        "id": "zfZzlYgrohY1",
        "outputId": "ce2997c1-7c4b-4545-bb89-eb7abcb62740",
        "colab": {
          "base_uri": "https://localhost:8080/",
          "height": 263
        }
      },
      "source": [
        "model = Sequential()\n",
        "model.add(Conv2D(23, kernel_size=(3,3),padding= 'same',data_format='channels_last', input_shape=(360,360,3)))\n",
        "model.add(MaxPooling2D(pool_size=(2,2)))\n",
        "model.add(Conv2D(45, kernel_size=(3,3),padding= 'same'))\n",
        "model.add(MaxPooling2D(pool_size=(2,2)))\n",
        "model.add(Conv2D(60, kernel_size=(1,1),padding= 'same'))\n",
        "model.add(MaxPooling2D(pool_size=(2,2)))\n",
        "model.add(Flatten())\n",
        "model.add(Dense(128,activation= tf.nn.relu, kernel_regularizer=regularizers.l2(0.01),activity_regularizer=regularizers.l1(0.01)))\n",
        "model.add(Dropout(0.5))\n",
        "model.add(Dense(64,activation= tf.nn.relu, kernel_regularizer=regularizers.l2(0.01),activity_regularizer=regularizers.l1(0.01)))\n",
        "model.add(Dropout(0.2))\n",
        "model.add(Dense(42,activation= tf.nn.relu))\n",
        "model.add(Dense(4,activation= tf.nn.sigmoid))"
      ],
      "execution_count": null,
      "outputs": [
        {
          "output_type": "stream",
          "text": [
            "WARNING:tensorflow:From /usr/local/lib/python3.6/dist-packages/keras/backend/tensorflow_backend.py:66: The name tf.get_default_graph is deprecated. Please use tf.compat.v1.get_default_graph instead.\n",
            "\n",
            "WARNING:tensorflow:From /usr/local/lib/python3.6/dist-packages/keras/backend/tensorflow_backend.py:541: The name tf.placeholder is deprecated. Please use tf.compat.v1.placeholder instead.\n",
            "\n",
            "WARNING:tensorflow:From /usr/local/lib/python3.6/dist-packages/keras/backend/tensorflow_backend.py:4432: The name tf.random_uniform is deprecated. Please use tf.random.uniform instead.\n",
            "\n",
            "WARNING:tensorflow:From /usr/local/lib/python3.6/dist-packages/keras/backend/tensorflow_backend.py:4267: The name tf.nn.max_pool is deprecated. Please use tf.nn.max_pool2d instead.\n",
            "\n",
            "WARNING:tensorflow:From /usr/local/lib/python3.6/dist-packages/keras/backend/tensorflow_backend.py:148: The name tf.placeholder_with_default is deprecated. Please use tf.compat.v1.placeholder_with_default instead.\n",
            "\n",
            "WARNING:tensorflow:From /usr/local/lib/python3.6/dist-packages/keras/backend/tensorflow_backend.py:3733: calling dropout (from tensorflow.python.ops.nn_ops) with keep_prob is deprecated and will be removed in a future version.\n",
            "Instructions for updating:\n",
            "Please use `rate` instead of `keep_prob`. Rate should be set to `rate = 1 - keep_prob`.\n"
          ],
          "name": "stdout"
        }
      ]
    },
    {
      "cell_type": "code",
      "metadata": {
        "id": "Wkdr7VgUzmEb",
        "outputId": "698d973d-bd54-47f1-932a-97296dccdc7c",
        "colab": {
          "base_uri": "https://localhost:8080/",
          "height": 159
        }
      },
      "source": [
        "model.compile(optimizer = 'adam', loss = 'binary_crossentropy', metrics=['accuracy'])"
      ],
      "execution_count": null,
      "outputs": [
        {
          "output_type": "stream",
          "text": [
            "WARNING:tensorflow:From /usr/local/lib/python3.6/dist-packages/keras/optimizers.py:793: The name tf.train.Optimizer is deprecated. Please use tf.compat.v1.train.Optimizer instead.\n",
            "\n",
            "WARNING:tensorflow:From /usr/local/lib/python3.6/dist-packages/keras/backend/tensorflow_backend.py:3657: The name tf.log is deprecated. Please use tf.math.log instead.\n",
            "\n",
            "WARNING:tensorflow:From /usr/local/lib/python3.6/dist-packages/tensorflow_core/python/ops/nn_impl.py:183: where (from tensorflow.python.ops.array_ops) is deprecated and will be removed in a future version.\n",
            "Instructions for updating:\n",
            "Use tf.where in 2.0, which has the same broadcast rule as np.where\n"
          ],
          "name": "stdout"
        }
      ]
    },
    {
      "cell_type": "code",
      "metadata": {
        "id": "AbEY7nDKjkA6"
      },
      "source": [
        "datagen = ImageDataGenerator(\n",
        "    featurewise_center=True,\n",
        "    featurewise_std_normalization=True,\n",
        "    rotation_range=20,\n",
        "    width_shift_range=0.2,\n",
        "    height_shift_range=0.2,\n",
        "    horizontal_flip=True)"
      ],
      "execution_count": null,
      "outputs": []
    },
    {
      "cell_type": "code",
      "metadata": {
        "id": "5MKs2_zXjoB4"
      },
      "source": [
        "#datagen.fit(x_train)"
      ],
      "execution_count": null,
      "outputs": []
    },
    {
      "cell_type": "code",
      "metadata": {
        "id": "9REw3lxEjrsh"
      },
      "source": [
        "train_generator= datagen.flow(x_train, y_train, batch_size=32)\n"
      ],
      "execution_count": null,
      "outputs": []
    },
    {
      "cell_type": "code",
      "metadata": {
        "id": "DWp7cMIGQieb"
      },
      "source": [
        "batch_size = 32\n"
      ],
      "execution_count": null,
      "outputs": []
    },
    {
      "cell_type": "code",
      "metadata": {
        "id": "ffwjhTwikJuO",
        "outputId": "29ebddc6-d648-4dee-c02b-5ad9a357870a",
        "colab": {
          "base_uri": "https://localhost:8080/",
          "height": 1000
        }
      },
      "source": [
        "model.fit_generator(\n",
        "        train_generator,\n",
        "        steps_per_epoch=2000 // batch_size,\n",
        "        epochs=50)"
      ],
      "execution_count": null,
      "outputs": [
        {
          "output_type": "stream",
          "text": [
            "WARNING:tensorflow:From /usr/local/lib/python3.6/dist-packages/keras/backend/tensorflow_backend.py:1033: The name tf.assign_add is deprecated. Please use tf.compat.v1.assign_add instead.\n",
            "\n",
            "WARNING:tensorflow:From /usr/local/lib/python3.6/dist-packages/keras/backend/tensorflow_backend.py:1020: The name tf.assign is deprecated. Please use tf.compat.v1.assign instead.\n",
            "\n",
            "WARNING:tensorflow:From /usr/local/lib/python3.6/dist-packages/keras/backend/tensorflow_backend.py:3005: The name tf.Session is deprecated. Please use tf.compat.v1.Session instead.\n",
            "\n",
            "Epoch 1/50\n"
          ],
          "name": "stdout"
        },
        {
          "output_type": "stream",
          "text": [
            "/usr/local/lib/python3.6/dist-packages/keras_preprocessing/image/image_data_generator.py:716: UserWarning: This ImageDataGenerator specifies `featurewise_center`, but it hasn't been fit on any training data. Fit it first by calling `.fit(numpy_data)`.\n",
            "  warnings.warn('This ImageDataGenerator specifies '\n",
            "/usr/local/lib/python3.6/dist-packages/keras_preprocessing/image/image_data_generator.py:724: UserWarning: This ImageDataGenerator specifies `featurewise_std_normalization`, but it hasn't been fit on any training data. Fit it first by calling `.fit(numpy_data)`.\n",
            "  warnings.warn('This ImageDataGenerator specifies '\n"
          ],
          "name": "stderr"
        },
        {
          "output_type": "stream",
          "text": [
            "WARNING:tensorflow:From /usr/local/lib/python3.6/dist-packages/keras/backend/tensorflow_backend.py:190: The name tf.get_default_session is deprecated. Please use tf.compat.v1.get_default_session instead.\n",
            "\n",
            "WARNING:tensorflow:From /usr/local/lib/python3.6/dist-packages/keras/backend/tensorflow_backend.py:197: The name tf.ConfigProto is deprecated. Please use tf.compat.v1.ConfigProto instead.\n",
            "\n",
            "WARNING:tensorflow:From /usr/local/lib/python3.6/dist-packages/keras/backend/tensorflow_backend.py:207: The name tf.global_variables is deprecated. Please use tf.compat.v1.global_variables instead.\n",
            "\n",
            "WARNING:tensorflow:From /usr/local/lib/python3.6/dist-packages/keras/backend/tensorflow_backend.py:216: The name tf.is_variable_initialized is deprecated. Please use tf.compat.v1.is_variable_initialized instead.\n",
            "\n",
            "WARNING:tensorflow:From /usr/local/lib/python3.6/dist-packages/keras/backend/tensorflow_backend.py:223: The name tf.variables_initializer is deprecated. Please use tf.compat.v1.variables_initializer instead.\n",
            "\n",
            "62/62 [==============================] - 58s 938ms/step - loss: 149.7288 - acc: 0.7560\n",
            "Epoch 2/50\n",
            "62/62 [==============================] - 49s 784ms/step - loss: 9.2325 - acc: 0.7864\n",
            "Epoch 3/50\n",
            "62/62 [==============================] - 49s 790ms/step - loss: 8.9943 - acc: 0.7880\n",
            "Epoch 4/50\n",
            "62/62 [==============================] - 49s 786ms/step - loss: 8.7658 - acc: 0.7856\n",
            "Epoch 5/50\n",
            "62/62 [==============================] - 49s 791ms/step - loss: 8.5470 - acc: 0.7850\n",
            "Epoch 6/50\n",
            "62/62 [==============================] - 49s 794ms/step - loss: 8.3390 - acc: 0.7856\n",
            "Epoch 7/50\n",
            "62/62 [==============================] - 49s 795ms/step - loss: 8.1406 - acc: 0.7899\n",
            "Epoch 8/50\n",
            "62/62 [==============================] - 49s 792ms/step - loss: 7.9613 - acc: 0.7842\n",
            "Epoch 9/50\n",
            "62/62 [==============================] - 49s 793ms/step - loss: 7.7856 - acc: 0.7844\n",
            "Epoch 10/50\n",
            "62/62 [==============================] - 49s 784ms/step - loss: 7.6089 - acc: 0.7898\n",
            "Epoch 11/50\n",
            "62/62 [==============================] - 49s 792ms/step - loss: 7.4496 - acc: 0.7865\n",
            "Epoch 12/50\n",
            "62/62 [==============================] - 49s 794ms/step - loss: 7.2890 - acc: 0.7865\n",
            "Epoch 13/50\n",
            "62/62 [==============================] - 49s 797ms/step - loss: 7.1334 - acc: 0.7876\n",
            "Epoch 14/50\n",
            "62/62 [==============================] - 49s 797ms/step - loss: 6.9766 - acc: 0.7872\n",
            "Epoch 15/50\n",
            "62/62 [==============================] - 49s 791ms/step - loss: 6.8338 - acc: 0.7854\n",
            "Epoch 16/50\n",
            "62/62 [==============================] - 49s 797ms/step - loss: 6.6847 - acc: 0.7863\n",
            "Epoch 17/50\n",
            "62/62 [==============================] - 49s 795ms/step - loss: 6.5408 - acc: 0.7869\n",
            "Epoch 18/50\n",
            "62/62 [==============================] - 49s 798ms/step - loss: 6.4045 - acc: 0.7869\n",
            "Epoch 19/50\n",
            "62/62 [==============================] - 50s 799ms/step - loss: 6.2668 - acc: 0.7868\n",
            "Epoch 20/50\n",
            "62/62 [==============================] - 50s 799ms/step - loss: 6.1390 - acc: 0.7825\n",
            "Epoch 21/50\n",
            "62/62 [==============================] - 49s 793ms/step - loss: 5.9960 - acc: 0.7918\n",
            "Epoch 22/50\n",
            "62/62 [==============================] - 49s 792ms/step - loss: 5.8790 - acc: 0.7833\n",
            "Epoch 23/50\n",
            "62/62 [==============================] - 49s 794ms/step - loss: 5.7431 - acc: 0.7892\n",
            "Epoch 24/50\n",
            "62/62 [==============================] - 49s 796ms/step - loss: 5.6309 - acc: 0.7813\n",
            "Epoch 25/50\n",
            "62/62 [==============================] - 49s 795ms/step - loss: 5.5025 - acc: 0.7890\n",
            "Epoch 26/50\n",
            "62/62 [==============================] - 49s 798ms/step - loss: 5.3843 - acc: 0.7875\n",
            "Epoch 27/50\n",
            "62/62 [==============================] - 49s 797ms/step - loss: 5.2621 - acc: 0.7921\n",
            "Epoch 28/50\n",
            "62/62 [==============================] - 49s 797ms/step - loss: 5.1580 - acc: 0.7814\n",
            "Epoch 29/50\n",
            "62/62 [==============================] - 50s 800ms/step - loss: 5.0426 - acc: 0.7852\n",
            "Epoch 30/50\n",
            "62/62 [==============================] - 50s 798ms/step - loss: 4.9325 - acc: 0.7873\n",
            "Epoch 31/50\n",
            "62/62 [==============================] - 49s 797ms/step - loss: 4.8290 - acc: 0.7820\n",
            "Epoch 32/50\n",
            "62/62 [==============================] - 49s 798ms/step - loss: 4.7155 - acc: 0.7869\n",
            "Epoch 33/50\n",
            "62/62 [==============================] - 49s 791ms/step - loss: 4.6092 - acc: 0.7883\n",
            "Epoch 34/50\n",
            "62/62 [==============================] - 50s 799ms/step - loss: 4.5066 - acc: 0.7874\n",
            "Epoch 35/50\n",
            "62/62 [==============================] - 49s 797ms/step - loss: 4.4026 - acc: 0.7909\n",
            "Epoch 36/50\n",
            "62/62 [==============================] - 49s 789ms/step - loss: 4.3132 - acc: 0.7830\n",
            "Epoch 37/50\n",
            "62/62 [==============================] - 49s 798ms/step - loss: 4.2082 - acc: 0.7877\n",
            "Epoch 38/50\n",
            "62/62 [==============================] - 50s 799ms/step - loss: 4.1118 - acc: 0.7882\n",
            "Epoch 39/50\n",
            "62/62 [==============================] - 49s 797ms/step - loss: 4.0239 - acc: 0.7818\n",
            "Epoch 40/50\n",
            "62/62 [==============================] - 50s 802ms/step - loss: 3.9226 - acc: 0.7895\n",
            "Epoch 41/50\n",
            "62/62 [==============================] - 50s 800ms/step - loss: 3.8310 - acc: 0.7892\n",
            "Epoch 42/50\n",
            "62/62 [==============================] - 50s 807ms/step - loss: 3.7479 - acc: 0.7821\n",
            "Epoch 43/50\n",
            "62/62 [==============================] - 50s 802ms/step - loss: 3.6517 - acc: 0.7886\n",
            "Epoch 44/50\n",
            "62/62 [==============================] - 50s 801ms/step - loss: 3.5682 - acc: 0.7868\n",
            "Epoch 45/50\n",
            "62/62 [==============================] - 50s 800ms/step - loss: 3.4830 - acc: 0.7849\n",
            "Epoch 46/50\n",
            "62/62 [==============================] - 49s 793ms/step - loss: 3.3983 - acc: 0.7860\n",
            "Epoch 47/50\n",
            "62/62 [==============================] - 49s 790ms/step - loss: 3.3146 - acc: 0.7857\n",
            "Epoch 48/50\n",
            "62/62 [==============================] - 49s 793ms/step - loss: 3.2278 - acc: 0.7898\n",
            "Epoch 49/50\n",
            "62/62 [==============================] - 49s 785ms/step - loss: 3.1575 - acc: 0.7834\n",
            "Epoch 50/50\n",
            "62/62 [==============================] - 50s 807ms/step - loss: 3.0658 - acc: 0.7917\n"
          ],
          "name": "stdout"
        },
        {
          "output_type": "execute_result",
          "data": {
            "text/plain": [
              "<keras.callbacks.History at 0x7f9eb5e59cc0>"
            ]
          },
          "metadata": {
            "tags": []
          },
          "execution_count": 29
        }
      ]
    },
    {
      "cell_type": "code",
      "metadata": {
        "id": "U2ldi7DjRh3_",
        "colab": {
          "base_uri": "https://localhost:8080/",
          "height": 52
        },
        "outputId": "21fbb266-ee0f-43e3-f790-63f14fd34c8f"
      },
      "source": [
        "model.evaluate(x_test,y_test)"
      ],
      "execution_count": null,
      "outputs": [
        {
          "output_type": "stream",
          "text": [
            "488/488 [==============================] - 1s 2ms/step\n"
          ],
          "name": "stdout"
        },
        {
          "output_type": "execute_result",
          "data": {
            "text/plain": [
              "[3.0439083224437278, 0.7817622950819673]"
            ]
          },
          "metadata": {
            "tags": []
          },
          "execution_count": 30
        }
      ]
    },
    {
      "cell_type": "code",
      "metadata": {
        "id": "KGeKK7BGl8nD"
      },
      "source": [
        ""
      ],
      "execution_count": null,
      "outputs": []
    }
  ]
}